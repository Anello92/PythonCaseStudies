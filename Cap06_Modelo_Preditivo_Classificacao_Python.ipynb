{
  "nbformat": 4,
  "nbformat_minor": 0,
  "metadata": {
    "colab": {
      "name": "Cap06-Modelo-Preditivo-Classificacao-Python.ipynb",
      "provenance": []
    },
    "kernelspec": {
      "name": "python3",
      "display_name": "Python 3"
    }
  },
  "cells": [
    {
      "cell_type": "markdown",
      "metadata": {
        "id": "l73oliA4utCL",
        "colab_type": "text"
      },
      "source": [
        "# Modelo preditivo de Classificação para prever o valor de uma variável binária "
      ]
    },
    {
      "cell_type": "code",
      "metadata": {
        "id": "mB3xWvk9uvmE",
        "colab_type": "code",
        "colab": {}
      },
      "source": [
        "# Import dos módulos\n",
        "import numpy as np\n",
        "import pandas as pd\n",
        "\n",
        "from sklearn.decomposition import PCA   \n",
        "!pip install pca \n",
        "\n",
        "from sklearn.pipeline import Pipeline\n",
        "\n",
        "from sklearn.linear_model import LogisticRegression\n",
        "\n",
        "# Não visualizar mais warnings\n",
        "import warnings\n",
        "warnings.filterwarnings(\"ignore\")"
      ],
      "execution_count": 0,
      "outputs": []
    },
    {
      "cell_type": "markdown",
      "metadata": {
        "id": "M6nhW6wnxJJm",
        "colab_type": "text"
      },
      "source": [
        "## Criando Massas de Dados Aleatórias"
      ]
    },
    {
      "cell_type": "markdown",
      "metadata": {
        "id": "VrbX6u9Vxchm",
        "colab_type": "text"
      },
      "source": [
        "### Dados de Treino"
      ]
    },
    {
      "cell_type": "code",
      "metadata": {
        "id": "MDkkRZJiuvy9",
        "colab_type": "code",
        "colab": {}
      },
      "source": [
        "# Dados de treino\n",
        "n_train = 10        #variável\n",
        "np.random.seed(0)\n",
        "\n",
        "# data frame com 4 variáveis preditoras e 1 variável target\n",
        "df_treino = pd.DataFrame({\"var1\": np.random.random(n_train), \\\n",
        "                          \"var2\": np.random.random(n_train), \\\n",
        "                          \"var3\": np.random.random(n_train), \\\n",
        "                          \"var4\": np.random.randint(0,2,n_train).astype(bool),\\\n",
        "\n",
        "                          \"target\": np.random.randint(0,2,n_train).astype(bool)})\n"
      ],
      "execution_count": 0,
      "outputs": []
    },
    {
      "cell_type": "markdown",
      "metadata": {
        "id": "BXme54lnyqMm",
        "colab_type": "text"
      },
      "source": [
        "### Dados de Teste"
      ]
    },
    {
      "cell_type": "code",
      "metadata": {
        "id": "I1G1TYxIuvvt",
        "colab_type": "code",
        "colab": {}
      },
      "source": [
        "# Dados de teste\n",
        "n_test = 3\n",
        "np.random.seed(1)\n",
        "\n",
        "# data frame com 4 variáveis preditoras e 1 variável target\n",
        "df_teste = pd.DataFrame({\"var1\": np.random.random(n_test), \\\n",
        "                         \"var2\": np.random.random(n_test), \\\n",
        "                         \"var3\": np.random.random(n_test), \\\n",
        "                         \"var4\": np.random.randint(0,2,n_test).astype(bool),\\\n",
        "                         \"target\": np.random.randint(0,2,n_test).astype(bool)})"
      ],
      "execution_count": 0,
      "outputs": []
    },
    {
      "cell_type": "markdown",
      "metadata": {
        "id": "3oOmsQMSy9yI",
        "colab_type": "text"
      },
      "source": [
        "## Reduzir a dimensionalidade para 3 componentes com PCA( ) \n",
        "\n",
        "Reduzir a informação nas 4 variáveis preditoras e **compactar** para 3 \n",
        "componentes\n",
        "\n",
        "Componentes armazenarão a informação que está nas 4 variáveis"
      ]
    },
    {
      "cell_type": "code",
      "metadata": {
        "id": "WSqVH4ys2hIQ",
        "colab_type": "code",
        "colab": {}
      },
      "source": [
        " # Reduzindo a dimensionalidade para 3 componentes\n",
        " pca = PCA(n_components= 3)"
      ],
      "execution_count": 0,
      "outputs": []
    },
    {
      "cell_type": "code",
      "metadata": {
        "id": "G4ZLwlB1DfwK",
        "colab_type": "code",
        "colab": {
          "base_uri": "https://localhost:8080/",
          "height": 35
        },
        "outputId": "28fa478f-b4aa-49cb-9338-1bd8f3e93d4b"
      },
      "source": [
        "type(pca)"
      ],
      "execution_count": 48,
      "outputs": [
        {
          "output_type": "execute_result",
          "data": {
            "text/plain": [
              "sklearn.decomposition._pca.PCA"
            ]
          },
          "metadata": {
            "tags": []
          },
          "execution_count": 48
        }
      ]
    },
    {
      "cell_type": "markdown",
      "metadata": {
        "id": "NtHgu-6l5dUv",
        "colab_type": "text"
      },
      "source": [
        "## Aplicar o **PCA** de dimensionalidade aos conjuntos: **Dados Treino | Dados Teste**\n",
        "\n",
        "PCA é um algoritmo de aprendizado **Não-Supervisionado**. Na prática não podemos entregar ao algoritmo a variável Target. "
      ]
    },
    {
      "cell_type": "code",
      "metadata": {
        "id": "DeASUq6k3GOF",
        "colab_type": "code",
        "colab": {}
      },
      "source": [
        "# Aplicar o PCA aos datasets e removemos a variável target com drop() - removendo a variável de saída\n",
        "newdf_treino = pca.fit_transform(df_treino.drop(\"target\", axis =1))\n",
        "newdf_teste = pca.transform(df_teste.drop(\"target\", axis = 1))"
      ],
      "execution_count": 0,
      "outputs": []
    },
    {
      "cell_type": "code",
      "metadata": {
        "id": "KxXe0mHXDUyB",
        "colab_type": "code",
        "colab": {
          "base_uri": "https://localhost:8080/",
          "height": 199
        },
        "outputId": "d0739111-f4d6-41e9-a4d2-c78635be082f"
      },
      "source": [
        "newdf_treino"
      ],
      "execution_count": 44,
      "outputs": [
        {
          "output_type": "execute_result",
          "data": {
            "text/plain": [
              "array([[ 0.41587301, -0.71062799, -0.11371247],\n",
              "       [-0.33697959,  0.03003896, -0.17654096],\n",
              "       [ 0.63605658, -0.29090443,  0.05028171],\n",
              "       [-0.43846812, -0.20849886,  0.15980423],\n",
              "       [ 0.94815762,  0.2527858 ,  0.03898095],\n",
              "       [-0.12006504,  0.42440996, -0.31974987],\n",
              "       [ 0.0903311 ,  0.76011682,  0.04769318],\n",
              "       [-0.52214167, -0.27678453, -0.15929367],\n",
              "       [-0.39311411, -0.02468934,  0.04231957],\n",
              "       [-0.27964979,  0.04415361,  0.43021735]])"
            ]
          },
          "metadata": {
            "tags": []
          },
          "execution_count": 44
        }
      ]
    },
    {
      "cell_type": "code",
      "metadata": {
        "id": "rkOfewBNDUuX",
        "colab_type": "code",
        "colab": {
          "base_uri": "https://localhost:8080/",
          "height": 72
        },
        "outputId": "bbecb035-6088-4192-cecd-147f893aaee3"
      },
      "source": [
        "newdf_teste"
      ],
      "execution_count": 45,
      "outputs": [
        {
          "output_type": "execute_result",
          "data": {
            "text/plain": [
              "array([[-0.01816061,  0.5477751 ,  0.20576276],\n",
              "       [-0.06962209,  0.53031446, -0.12958389],\n",
              "       [ 0.07690527,  0.63282594,  0.12999804]])"
            ]
          },
          "metadata": {
            "tags": []
          },
          "execution_count": 45
        }
      ]
    },
    {
      "cell_type": "markdown",
      "metadata": {
        "id": "_k_U3hhb7Zap",
        "colab_type": "text"
      },
      "source": [
        "## Converter os dois datasets reduzidos e sem variável target para DataFrame Pandas\n",
        "\n",
        "Manipulação mais prática na Regressão Logística com formato DataFrame"
      ]
    },
    {
      "cell_type": "code",
      "metadata": {
        "id": "IyyaLo4AvlD9",
        "colab_type": "code",
        "colab": {}
      },
      "source": [
        "# Criar dataframes do pandas com o resultado do item anterior\n",
        "features_treino = pd.DataFrame(newdf_treino)\n",
        "features_teste = pd.DataFrame(newdf_teste)"
      ],
      "execution_count": 0,
      "outputs": []
    },
    {
      "cell_type": "code",
      "metadata": {
        "id": "ZLy3OOsNDNdb",
        "colab_type": "code",
        "colab": {
          "base_uri": "https://localhost:8080/",
          "height": 348
        },
        "outputId": "9e3d69a6-749f-41de-9e3d-68d8ecec5dcf"
      },
      "source": [
        "features_treino"
      ],
      "execution_count": 42,
      "outputs": [
        {
          "output_type": "execute_result",
          "data": {
            "text/html": [
              "<div>\n",
              "<style scoped>\n",
              "    .dataframe tbody tr th:only-of-type {\n",
              "        vertical-align: middle;\n",
              "    }\n",
              "\n",
              "    .dataframe tbody tr th {\n",
              "        vertical-align: top;\n",
              "    }\n",
              "\n",
              "    .dataframe thead th {\n",
              "        text-align: right;\n",
              "    }\n",
              "</style>\n",
              "<table border=\"1\" class=\"dataframe\">\n",
              "  <thead>\n",
              "    <tr style=\"text-align: right;\">\n",
              "      <th></th>\n",
              "      <th>0</th>\n",
              "      <th>1</th>\n",
              "      <th>2</th>\n",
              "    </tr>\n",
              "  </thead>\n",
              "  <tbody>\n",
              "    <tr>\n",
              "      <th>0</th>\n",
              "      <td>0.415873</td>\n",
              "      <td>-0.710628</td>\n",
              "      <td>-0.113712</td>\n",
              "    </tr>\n",
              "    <tr>\n",
              "      <th>1</th>\n",
              "      <td>-0.336980</td>\n",
              "      <td>0.030039</td>\n",
              "      <td>-0.176541</td>\n",
              "    </tr>\n",
              "    <tr>\n",
              "      <th>2</th>\n",
              "      <td>0.636057</td>\n",
              "      <td>-0.290904</td>\n",
              "      <td>0.050282</td>\n",
              "    </tr>\n",
              "    <tr>\n",
              "      <th>3</th>\n",
              "      <td>-0.438468</td>\n",
              "      <td>-0.208499</td>\n",
              "      <td>0.159804</td>\n",
              "    </tr>\n",
              "    <tr>\n",
              "      <th>4</th>\n",
              "      <td>0.948158</td>\n",
              "      <td>0.252786</td>\n",
              "      <td>0.038981</td>\n",
              "    </tr>\n",
              "    <tr>\n",
              "      <th>5</th>\n",
              "      <td>-0.120065</td>\n",
              "      <td>0.424410</td>\n",
              "      <td>-0.319750</td>\n",
              "    </tr>\n",
              "    <tr>\n",
              "      <th>6</th>\n",
              "      <td>0.090331</td>\n",
              "      <td>0.760117</td>\n",
              "      <td>0.047693</td>\n",
              "    </tr>\n",
              "    <tr>\n",
              "      <th>7</th>\n",
              "      <td>-0.522142</td>\n",
              "      <td>-0.276785</td>\n",
              "      <td>-0.159294</td>\n",
              "    </tr>\n",
              "    <tr>\n",
              "      <th>8</th>\n",
              "      <td>-0.393114</td>\n",
              "      <td>-0.024689</td>\n",
              "      <td>0.042320</td>\n",
              "    </tr>\n",
              "    <tr>\n",
              "      <th>9</th>\n",
              "      <td>-0.279650</td>\n",
              "      <td>0.044154</td>\n",
              "      <td>0.430217</td>\n",
              "    </tr>\n",
              "  </tbody>\n",
              "</table>\n",
              "</div>"
            ],
            "text/plain": [
              "          0         1         2\n",
              "0  0.415873 -0.710628 -0.113712\n",
              "1 -0.336980  0.030039 -0.176541\n",
              "2  0.636057 -0.290904  0.050282\n",
              "3 -0.438468 -0.208499  0.159804\n",
              "4  0.948158  0.252786  0.038981\n",
              "5 -0.120065  0.424410 -0.319750\n",
              "6  0.090331  0.760117  0.047693\n",
              "7 -0.522142 -0.276785 -0.159294\n",
              "8 -0.393114 -0.024689  0.042320\n",
              "9 -0.279650  0.044154  0.430217"
            ]
          },
          "metadata": {
            "tags": []
          },
          "execution_count": 42
        }
      ]
    },
    {
      "cell_type": "code",
      "metadata": {
        "id": "pgVdfpJfDNRf",
        "colab_type": "code",
        "colab": {
          "base_uri": "https://localhost:8080/",
          "height": 138
        },
        "outputId": "8ad5eecc-e579-4607-ceb0-db655df97415"
      },
      "source": [
        "features_teste"
      ],
      "execution_count": 43,
      "outputs": [
        {
          "output_type": "execute_result",
          "data": {
            "text/html": [
              "<div>\n",
              "<style scoped>\n",
              "    .dataframe tbody tr th:only-of-type {\n",
              "        vertical-align: middle;\n",
              "    }\n",
              "\n",
              "    .dataframe tbody tr th {\n",
              "        vertical-align: top;\n",
              "    }\n",
              "\n",
              "    .dataframe thead th {\n",
              "        text-align: right;\n",
              "    }\n",
              "</style>\n",
              "<table border=\"1\" class=\"dataframe\">\n",
              "  <thead>\n",
              "    <tr style=\"text-align: right;\">\n",
              "      <th></th>\n",
              "      <th>0</th>\n",
              "      <th>1</th>\n",
              "      <th>2</th>\n",
              "    </tr>\n",
              "  </thead>\n",
              "  <tbody>\n",
              "    <tr>\n",
              "      <th>0</th>\n",
              "      <td>-0.018161</td>\n",
              "      <td>0.547775</td>\n",
              "      <td>0.205763</td>\n",
              "    </tr>\n",
              "    <tr>\n",
              "      <th>1</th>\n",
              "      <td>-0.069622</td>\n",
              "      <td>0.530314</td>\n",
              "      <td>-0.129584</td>\n",
              "    </tr>\n",
              "    <tr>\n",
              "      <th>2</th>\n",
              "      <td>0.076905</td>\n",
              "      <td>0.632826</td>\n",
              "      <td>0.129998</td>\n",
              "    </tr>\n",
              "  </tbody>\n",
              "</table>\n",
              "</div>"
            ],
            "text/plain": [
              "          0         1         2\n",
              "0 -0.018161  0.547775  0.205763\n",
              "1 -0.069622  0.530314 -0.129584\n",
              "2  0.076905  0.632826  0.129998"
            ]
          },
          "metadata": {
            "tags": []
          },
          "execution_count": 43
        }
      ]
    },
    {
      "cell_type": "markdown",
      "metadata": {
        "id": "HbIhyCdJ8xWL",
        "colab_type": "text"
      },
      "source": [
        "## Criar Modelo de **Regressão Logística**"
      ]
    },
    {
      "cell_type": "code",
      "metadata": {
        "id": "DYcs7dHevtd1",
        "colab_type": "code",
        "colab": {}
      },
      "source": [
        "# Crie um modelo de regressão logística\n",
        "regr = LogisticRegression()"
      ],
      "execution_count": 0,
      "outputs": []
    },
    {
      "cell_type": "markdown",
      "metadata": {
        "id": "cQFPZvz582Q4",
        "colab_type": "text"
      },
      "source": [
        "##sklearn.pipeline.Pipeline\n",
        "\n",
        "1. Reduzir Dimensionalidade com PCA\n",
        "2. Entregar resultado do PCA ao algoritmo de Regressão Logística\n",
        "3. Criar Pipeline para concatenar  o resultado do PCA e Regressão Logística"
      ]
    },
    {
      "cell_type": "code",
      "metadata": {
        "id": "xaEmdBV2vtab",
        "colab_type": "code",
        "colab": {}
      },
      "source": [
        "# Usando o recurso de pipeline do scikit-learn para encadear 2 algoritmos em um mesmo modelo, \n",
        "pipe = Pipeline([(\"pca\", pca),          # Primeiro Par (label, função de Redução)\n",
        "                 (\"logistic\", regr)])   # Segundo Par  (label, função de Regressão Linear)\n",
        "                                        # Alocar no objeto pipe"
      ],
      "execution_count": 0,
      "outputs": []
    },
    {
      "cell_type": "code",
      "metadata": {
        "id": "XlXhB0A_EAMG",
        "colab_type": "code",
        "colab": {
          "base_uri": "https://localhost:8080/",
          "height": 272
        },
        "outputId": "15bbcc84-9d8c-4fb5-d794-bc5b1ff44e74"
      },
      "source": [
        "# Chamar a função fit() do objeto pipe, TREINAR o pipe. De uma única vez treinar PCA e Regressão Logística\n",
        "pipe.fit(features_treino,     # Primeiro parâmetro: componentes principais, variáveis de entrada\n",
        "         df_treino[\"target\"]) # Segundo parâmetro: filtrando apenas a variável \"target\""
      ],
      "execution_count": 52,
      "outputs": [
        {
          "output_type": "execute_result",
          "data": {
            "text/plain": [
              "Pipeline(memory=None,\n",
              "         steps=[('pca',\n",
              "                 PCA(copy=True, iterated_power='auto', n_components=3,\n",
              "                     random_state=None, svd_solver='auto', tol=0.0,\n",
              "                     whiten=False)),\n",
              "                ('logistic',\n",
              "                 LogisticRegression(C=1.0, class_weight=None, dual=False,\n",
              "                                    fit_intercept=True, intercept_scaling=1,\n",
              "                                    l1_ratio=None, max_iter=100,\n",
              "                                    multi_class='auto', n_jobs=None,\n",
              "                                    penalty='l2', random_state=None,\n",
              "                                    solver='lbfgs', tol=0.0001, verbose=0,\n",
              "                                    warm_start=False))],\n",
              "         verbose=False)"
            ]
          },
          "metadata": {
            "tags": []
          },
          "execution_count": 52
        }
      ]
    },
    {
      "cell_type": "markdown",
      "metadata": {
        "id": "L1vFVR6r45Mo",
        "colab_type": "text"
      },
      "source": [
        "## Previsões com o **Modelo Treinado**"
      ]
    },
    {
      "cell_type": "code",
      "metadata": {
        "id": "Juw8_766vtW8",
        "colab_type": "code",
        "colab": {}
      },
      "source": [
        "# Fazer previsões com o modelo treinado, apenas com dados de entrad\n",
        "predictions = pipe.predict(features_teste)"
      ],
      "execution_count": 0,
      "outputs": []
    },
    {
      "cell_type": "code",
      "metadata": {
        "id": "ewAJBlVZuvsz",
        "colab_type": "code",
        "colab": {
          "base_uri": "https://localhost:8080/",
          "height": 54
        },
        "outputId": "e079d5b4-8082-4397-b8f2-c41c3e38340a"
      },
      "source": [
        "# Imprimindo as previsões\n",
        "print(\"\\Previsões do modelo:\")\n",
        "print(predictions)"
      ],
      "execution_count": 54,
      "outputs": [
        {
          "output_type": "stream",
          "text": [
            "\\Previsões do modelo:\n",
            "[ True  True  True]\n"
          ],
          "name": "stdout"
        }
      ]
    }
  ]
}