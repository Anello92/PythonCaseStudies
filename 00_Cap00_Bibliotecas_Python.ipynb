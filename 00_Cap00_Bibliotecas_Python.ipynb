{
  "nbformat": 4,
  "nbformat_minor": 0,
  "metadata": {
    "colab": {
      "name": "00-Cap00-Bibliotecas-Python.ipynb",
      "provenance": [],
      "collapsed_sections": []
    },
    "kernelspec": {
      "name": "python3",
      "display_name": "Python 3"
    }
  },
  "cells": [
    {
      "cell_type": "markdown",
      "metadata": {
        "id": "ZHNga_On7vUB",
        "colab_type": "text"
      },
      "source": [
        "#**Principais Bibliotecas Python**"
      ]
    },
    {
      "cell_type": "markdown",
      "metadata": {
        "id": "SkQUvG4fMu9x",
        "colab_type": "text"
      },
      "source": [
        "[tidyverse](https://datacamp-community-prod.s3.amazonaws.com/e63a8f6b-2aa3-4006-89e0-badc294b179c)"
      ]
    },
    {
      "cell_type": "markdown",
      "metadata": {
        "id": "Yv2-Pt68Maa7",
        "colab_type": "text"
      },
      "source": [
        "[importing data](https://datacamp-community-prod.s3.amazonaws.com/50d31142-3de0-4159-89b9-18b718a728ef)"
      ]
    },
    {
      "cell_type": "markdown",
      "metadata": {
        "id": "6aQHNvyAIbaK",
        "colab_type": "text"
      },
      "source": [
        "[python basics](https://storage.googleapis.com/molten/lava/2018/09/81bb9282-intro-to-python-for-data-science-python-cheat-sheet-datacamp.jpg)"
      ]
    },
    {
      "cell_type": "markdown",
      "metadata": {
        "id": "ytzZGqOzOyOZ",
        "colab_type": "text"
      },
      "source": [
        "[data wrangling](https://datacamp-community-prod.s3.amazonaws.com/9f0f2ae1-8bd8-4302-a67b-e17f3059d9e8)"
      ]
    },
    {
      "cell_type": "markdown",
      "metadata": {
        "id": "NxiCoyPJAaVo",
        "colab_type": "text"
      },
      "source": [
        "#**Bibliotecas Estatísticas**"
      ]
    },
    {
      "cell_type": "markdown",
      "metadata": {
        "id": "MRYRHn7nPwqV",
        "colab_type": "text"
      },
      "source": [
        "---"
      ]
    },
    {
      "cell_type": "markdown",
      "metadata": {
        "id": "7rZ5QUZk7p2V",
        "colab_type": "text"
      },
      "source": [
        "##**NumPy** - Estatística\n"
      ]
    },
    {
      "cell_type": "markdown",
      "metadata": {
        "id": "TLqMP2oCL7fy",
        "colab_type": "text"
      },
      "source": [
        "[link text](https://s3.amazonaws.com/assets.datacamp.com/blog_assets/Numpy_Python_Cheat_Sheet.pdf)"
      ]
    },
    {
      "cell_type": "markdown",
      "metadata": {
        "id": "ioQrS-1H8Our",
        "colab_type": "text"
      },
      "source": [
        "Tradicionalmente, começamos nossa lista com as bibliotecas para aplicativos científicos e o NumPy é um dos principais pacotes nessa área.\n",
        "\n",
        "Destinado ao processamento de grandes matrizes e matrizes multidimensionais, e uma extensa coleção de funções matemáticas de alto nível e métodos implementados possibilitam a execução de várias operações com esses objetos.\n",
        "\n",
        "Algumas funções agora podem manipular arquivos de qualquer codificação disponível no Python."
      ]
    },
    {
      "cell_type": "markdown",
      "metadata": {
        "id": "CBowmLTD8OrU",
        "colab_type": "text"
      },
      "source": [
        "##**SciPy** - Estatística "
      ]
    },
    {
      "cell_type": "markdown",
      "metadata": {
        "id": "gic3aDI7K_yC",
        "colab_type": "text"
      },
      "source": [
        "[link text](https://s3.amazonaws.com/assets.datacamp.com/blog_assets/Python_SciPy_Cheat_Sheet_Linear_Algebra.pdf)"
      ]
    },
    {
      "cell_type": "markdown",
      "metadata": {
        "id": "fFy1kaq98Od4",
        "colab_type": "text"
      },
      "source": [
        "A principal estrutura de dados SciPy é novamente uma matriz multidimensional, implementada pelo Numpy. \n",
        "\n",
        "O pacote contém ferramentas que ajudam a resolver álgebra linear, teoria da probabilidade, cálculo integral e muitas outras tarefas.\n",
        "\n",
        "O SciPy recebeu grandes melhorias na construção, na forma de integração contínua em diferentes sistemas operacionais, novas funções e métodos e, o que é especialmente importante – os otimizadores atualizados. Além disso, muitas novas funções BLAS e LAPACK foram agrupadas."
      ]
    },
    {
      "cell_type": "markdown",
      "metadata": {
        "id": "1nEUjvKJ-tRn",
        "colab_type": "text"
      },
      "source": [
        "##**Pandas** - Estatística"
      ]
    },
    {
      "cell_type": "markdown",
      "metadata": {
        "id": "KO0eLmfrLcuu",
        "colab_type": "text"
      },
      "source": [
        "[link text](http://datacamp-community-prod.s3.amazonaws.com/dbed353d-2757-4617-8206-8767ab379ab3)"
      ]
    },
    {
      "cell_type": "markdown",
      "metadata": {
        "id": "ac9vucqgOu-4",
        "colab_type": "text"
      },
      "source": [
        "[link text](https://datacamp-community-prod.s3.amazonaws.com/9f0f2ae1-8bd8-4302-a67b-e17f3059d9e8)"
      ]
    },
    {
      "cell_type": "markdown",
      "metadata": {
        "id": "d10PN9yR-tOO",
        "colab_type": "text"
      },
      "source": [
        "A grande característica deste pacote é a capacidade de traduzir operações bastante complexas com dados em um ou dois comandos. \n",
        "\n",
        "O Pandas contêm muitos métodos internos para agrupar, filtrar e combinar dados, bem como a funcionalidade de séries temporais. Tudo isso é seguido por indicadores de velocidade impressionantes.\n",
        "\n",
        "Houve alguns novos lançamentos recentes da biblioteca Pandas, incluindo centenas de novos recursos, aprimoramentos, correções de bugs e alterações de API.\n",
        "\n",
        " As melhorias consideram as habilidades do Pandas de agrupar e classificar dados, saída mais adequada para o método apply e o suporte na execução de operações de tipos personalizados."
      ]
    },
    {
      "cell_type": "markdown",
      "metadata": {
        "id": "S1qVlTHQ9UDg",
        "colab_type": "text"
      },
      "source": [
        "##**StatsModel** - Estatística"
      ]
    },
    {
      "cell_type": "markdown",
      "metadata": {
        "id": "DL1Rw4UD9W1j",
        "colab_type": "text"
      },
      "source": [
        "Statsmodels é um módulo Python que oferece muitas oportunidades para análise de dados estatísticos, como a estimação de modelos estatísticos, a realização de testes estatísticos, etc. \n",
        "\n",
        "Com este pacote, você pode implementar muitos métodos de aprendizado de máquina e explorar diferentes possibilidades de plotagem.\n",
        "\n",
        "A biblioteca está em constante desenvolvimento, enriquecendo e trazendo novas oportunidades como o GeneralizedPoisson, modelos NegativeBinomialP, e novos métodos multivariados – análise fatorial, MANOVA e medidas repetidas dentro da ANOVA."
      ]
    },
    {
      "cell_type": "markdown",
      "metadata": {
        "id": "6t8LHE3GAJHg",
        "colab_type": "text"
      },
      "source": [
        "#**Bibliotecas de Visualização**"
      ]
    },
    {
      "cell_type": "markdown",
      "metadata": {
        "id": "IqtZw6f0PtC3",
        "colab_type": "text"
      },
      "source": [
        "---"
      ]
    },
    {
      "cell_type": "markdown",
      "metadata": {
        "id": "45wvhmcS9uNS",
        "colab_type": "text"
      },
      "source": [
        "##**Matplotlib** - Visualização"
      ]
    },
    {
      "cell_type": "markdown",
      "metadata": {
        "id": "zwPd81NFPAJa",
        "colab_type": "text"
      },
      "source": [
        "[link text](https://datacamp-community-prod.s3.amazonaws.com/28b8210c-60cc-4f13-b0b4-5b4f2ad4790b)"
      ]
    },
    {
      "cell_type": "markdown",
      "metadata": {
        "id": "bkRWNnx190Yz",
        "colab_type": "text"
      },
      "source": [
        "O Matplotlib é uma biblioteca de baixo nível para criar diagramas e gráficos bidimensionais.\n",
        "\n",
        "Com este pacote, você pode construir gráficos diversos, desde histogramas e gráficos de dispersão a gráficos de coordenadas não cartesianas.\n",
        "\n",
        "Houve recentemente mudanças de estilo em cores, tamanhos, fontes, legendas, etc. Recebeu ainda melhorias no alinhamento automático de legendas nos eixos e, entre melhorias significativas de cores, há um novo ciclo de cores compatível com daltônicos."
      ]
    },
    {
      "cell_type": "markdown",
      "metadata": {
        "id": "yXtH9tTC-BCS",
        "colab_type": "text"
      },
      "source": [
        "##**Seaborn** - Visualização\n"
      ]
    },
    {
      "cell_type": "markdown",
      "metadata": {
        "id": "BxZuMqo5OHCo",
        "colab_type": "text"
      },
      "source": [
        "[link text](https://datacamp-community-prod.s3.amazonaws.com/f9f06e72-519a-4722-9912-b5de742dbac4)"
      ]
    },
    {
      "cell_type": "markdown",
      "metadata": {
        "id": "zL2Y7KBd-DzG",
        "colab_type": "text"
      },
      "source": [
        "O Seaborn é essencialmente uma API de alto nível baseada na biblioteca matplotlib.\n",
        "\n",
        "Ele contém configurações padrão mais adequadas para o processamento de gráficos. Além disso, há uma rica galeria de visualizações, incluindo alguns tipos complexos, como séries temporais, diagramas conjuntos e diagramas de violino.\n",
        "\n",
        "Melhorias na compatibilidade entre FacetGrid ou PairGrid e backends de matplotlib interativos aprimorados, adicionando parâmetros e opções às visualizações."
      ]
    },
    {
      "cell_type": "markdown",
      "metadata": {
        "id": "NBaAFUPJ-Z44",
        "colab_type": "text"
      },
      "source": [
        "##**Plotly** - Visualização "
      ]
    },
    {
      "cell_type": "markdown",
      "metadata": {
        "id": "lC8j3ia0_VH-",
        "colab_type": "text"
      },
      "source": [
        "Plotly é uma biblioteca popular que permite construir facilmente gráficos sofisticados. \n",
        "\n",
        "O pacote é adaptado para trabalhar em aplicativos da web interativos.\n",
        "\n",
        "Entre suas visualizações notáveis estão gráficos de contorno, gráficos ternários e gráficos 3D.\n",
        "\n",
        "Os aprimoramentos contínuos da biblioteca com novos gráficos e recursos trouxeram o suporte para “várias visualizações vinculadas”, bem como a integração de animação e interferência."
      ]
    },
    {
      "cell_type": "markdown",
      "metadata": {
        "id": "g2-WP1bP_jFp",
        "colab_type": "text"
      },
      "source": [
        "##**Bokeh** - Visualização "
      ]
    },
    {
      "cell_type": "markdown",
      "metadata": {
        "id": "ucSsvp-3N5Z5",
        "colab_type": "text"
      },
      "source": [
        "[link text](https://datacamp-community-prod.s3.amazonaws.com/f9511cf4-abb9-4f52-9663-ea93b29ee4b7)"
      ]
    },
    {
      "cell_type": "markdown",
      "metadata": {
        "id": "DQ-W3_GC_hmc",
        "colab_type": "text"
      },
      "source": [
        "A biblioteca Bokeh cria visualizações interativas e escalonáveis em um navegador usando widgets JavaScript. \n",
        "\n",
        "A biblioteca oferece uma coleção versátil de gráficos, possibilidades de estilo, habilidades de interação na forma de vincular gráficos, adicionar widgets e definir retornos de chamada, além de muitos outros recursos úteis.\n",
        "\n",
        "O Bokeh possui habilidades interativas aprimoradas, como uma rotação de rótulos categóricos, bem como aprimoramentos de pequenos campos de ferramenta de zoom e de dicas de ferramentas personalizadas."
      ]
    },
    {
      "cell_type": "markdown",
      "metadata": {
        "id": "UH-oepMC_zz9",
        "colab_type": "text"
      },
      "source": [
        "##**Pydot** - Visualização\n"
      ]
    },
    {
      "cell_type": "markdown",
      "metadata": {
        "id": "_oqiFyCc_zwn",
        "colab_type": "text"
      },
      "source": [
        "Pydot é uma biblioteca para gerar grafos complexos orientados e não orientados. \n",
        "\n",
        "É uma interface para o Graphviz, escrita em Python puro.\n",
        "\n",
        "Com a sua ajuda, é possível mostrar a estrutura dos grafos, que muitas vezes são necessários ao construir algoritmos baseados em redes neurais e árvores de decisão.\n",
        "\n"
      ]
    },
    {
      "cell_type": "markdown",
      "metadata": {
        "id": "l_UPyDhUAn1N",
        "colab_type": "text"
      },
      "source": [
        "#**Bibliotecas de Machine Learning**"
      ]
    },
    {
      "cell_type": "markdown",
      "metadata": {
        "id": "nLyBsP3pPqOu",
        "colab_type": "text"
      },
      "source": [
        "---"
      ]
    },
    {
      "cell_type": "markdown",
      "metadata": {
        "id": "apULCfiLAz6s",
        "colab_type": "text"
      },
      "source": [
        "##**Scikit-learn** - Machine Learning"
      ]
    },
    {
      "cell_type": "markdown",
      "metadata": {
        "id": "ySWAc_gqNNev",
        "colab_type": "text"
      },
      "source": [
        "[link text](https://datacamp-community-prod.s3.amazonaws.com/5433fa18-9f43-44cc-b228-74672efcd116)"
      ]
    },
    {
      "cell_type": "markdown",
      "metadata": {
        "id": "_jp0vGnQAz3W",
        "colab_type": "text"
      },
      "source": [
        "Este módulo Python baseado no NumPy e SciPy é uma das melhores bibliotecas para trabalhar com dados. \n",
        "\n",
        "Ele fornece algoritmos para muitas tarefas padrão de aprendizado de máquina e mineração de dados, como clustering, regressão, classificação, redução de dimensionalidade e seleção de modelo.\n",
        "\n",
        "Há vários aprimoramentos feitos na biblioteca. A validação cruzada foi modificada, fornecendo uma capacidade de usar mais de uma métrica. \n",
        "\n",
        "Vários métodos de treinamento, como vizinhos mais próximos, e regressões logísticas enfrentaram algumas pequenas melhorias. \n",
        "\n",
        "Finalmente, uma das principais atualizações é a realização do Glossário de Termos Comuns e Elementos de API que estão familiarizados com a terminologia e convenções usadas no Scikit-learn"
      ]
    },
    {
      "cell_type": "markdown",
      "metadata": {
        "id": "r5MdNDiTAz0z",
        "colab_type": "text"
      },
      "source": [
        "##**XGBoost / LightGBM / CatBoost** - Machine Learning"
      ]
    },
    {
      "cell_type": "markdown",
      "metadata": {
        "id": "V2igQl63AzxS",
        "colab_type": "text"
      },
      "source": [
        "Gradient Boosting é um dos algoritmos de aprendizado de máquina mais populares, que consiste em construir um conjunto de modelos elementares sucessivamente refinados, ou seja, árvores de decisão.\n",
        "\n",
        "Portanto, existem bibliotecas especiais projetadas para implementação rápida e conveniente desse método e achamos que XGBoost, LightGBM e CatBoost merecem atenção especial.\n",
        "\n",
        "Todos eles são concorrentes que resolvem um problema comum e são usados ​​quase da mesma maneira. Essas bibliotecas fornecem implementações altamente otimizadas, escaláveis ​​e rápidas do Gradient Boosting, o que as torna extremamente populares entre os Cientistas de Dados e os competidores do Kaggle, já que muitos concursos foram vencidos com a ajuda desses algoritmos."
      ]
    },
    {
      "cell_type": "markdown",
      "metadata": {
        "id": "7mjhbriaAzuD",
        "colab_type": "text"
      },
      "source": [
        "##**Eli5** - Machine Learning\n"
      ]
    },
    {
      "cell_type": "markdown",
      "metadata": {
        "id": "K_LAMWpzAzrh",
        "colab_type": "text"
      },
      "source": [
        "Frequentemente, os resultados das previsões de modelos de aprendizado de máquina não são totalmente claros, e esse é o desafio que a biblioteca eli5 ajuda a lidar.\n",
        "\n",
        "É um pacote para visualização e depuração de modelos de aprendizado de máquina e acompanhamento do trabalho de um algoritmo passo a passo. \n",
        "\n",
        "Ele fornece suporte para as bibliotecas Scikit-learn, XGBoost, LightGBM, lightning e sklearn-crfsuite e executa as diferentes tarefas para cada uma delas.\n",
        "\n"
      ]
    },
    {
      "cell_type": "markdown",
      "metadata": {
        "id": "QU1ISGkwC34s",
        "colab_type": "text"
      },
      "source": [
        "#**Bibliotecas de Deep Learning**"
      ]
    },
    {
      "cell_type": "markdown",
      "metadata": {
        "id": "TvlXJMuHPmZ5",
        "colab_type": "text"
      },
      "source": [
        "---"
      ]
    },
    {
      "cell_type": "markdown",
      "metadata": {
        "id": "PwLjq1VeDAz7",
        "colab_type": "text"
      },
      "source": [
        "##**TensorFlow** - Deep Learning\n"
      ]
    },
    {
      "cell_type": "markdown",
      "metadata": {
        "id": "hn9anKkBDAv8",
        "colab_type": "text"
      },
      "source": [
        "O TensorFlow é um framework popular para aprendizagem profunda, desenvolvido no Google Brain.\n",
        "\n",
        "Ele fornece habilidades para trabalhar com redes neurais artificiais com vários conjuntos de dados. \n",
        "\n",
        "Entre as aplicações mais populares do TensorFlow estão a identificação de objetos, o reconhecimento de fala e muito mais. \n",
        "\n",
        "Há também diferentes “ajudantes” que rodam sobre o TensorFlow regular, como tflearn, tf-slim, skflow, etc.\n",
        "\n",
        "Esta biblioteca é rápida em novos lançamentos, introduzindo novos e novos recursos. Entre as mais recentes estão correções na vulnerabilidade de segurança em potencial e melhorias na integração do TensorFlow e da GPU, como a execução de um modelo de Estimador em várias GPUs em uma máquina.\n"
      ]
    },
    {
      "cell_type": "markdown",
      "metadata": {
        "id": "p49JuVKyDAs0",
        "colab_type": "text"
      },
      "source": [
        "##**PyTorch** - Deep Learning"
      ]
    },
    {
      "cell_type": "markdown",
      "metadata": {
        "id": "xoiptsnMDApr",
        "colab_type": "text"
      },
      "source": [
        "PyTorch é uma estrutura que permite executar cálculos de tensores com aceleração de GPU, criar grafos computacionais dinâmicos e calcular automaticamente gradientes. \n",
        "\n",
        "Além disso, o PyTorch oferece uma API rica para resolver aplicativos relacionados a redes neurais.\n",
        "\n",
        "A biblioteca é baseada no Torch, que é uma biblioteca de aprendizagem profunda de código aberto implementada em C com um wrapper em Lua. \n",
        "\n",
        "A API do Python foi lançada em 2017 e, a partir daí, o framework está ganhando popularidade e atraindo um número crescente de Cientistas de Dados.\n"
      ]
    },
    {
      "cell_type": "markdown",
      "metadata": {
        "id": "9TUB32uEDAnr",
        "colab_type": "text"
      },
      "source": [
        "##**Keras** - Deep Learning"
      ]
    },
    {
      "cell_type": "markdown",
      "metadata": {
        "id": "2Z0Dl2TuOfaz",
        "colab_type": "text"
      },
      "source": [
        "[link text](https://datacamp-community-prod.s3.amazonaws.com/94fc681d-5422-40cb-a129-2218e9522f17)"
      ]
    },
    {
      "cell_type": "markdown",
      "metadata": {
        "id": "tYEAeU_jDAkH",
        "colab_type": "text"
      },
      "source": [
        "Keras é uma biblioteca de alto nível para trabalhar com redes neurais, rodando sobre o TensorFlow, Theano, e agora, como resultado dos novos lançamentos, também é possível usar o CNTK e o MxNet como backends. \n",
        "\n",
        "Ele simplifica muitas tarefas específicas e reduz muito a quantidade de código. No entanto, pode não ser adequado para algumas coisas complicadas.\n",
        "\n",
        "Essa biblioteca recebeu melhorias no desempenho, usabilidade, documentação e melhorias na API.\n",
        "\n",
        "Alguns dos novos recursos são a camada Conv3DTranspose, o novo aplicativo MobileNet e as redes de auto-normalização."
      ]
    },
    {
      "cell_type": "markdown",
      "metadata": {
        "id": "SduqQEspDAhR",
        "colab_type": "text"
      },
      "source": [
        "##**Dist-keras / elephas / spark-deep-learning** - Deep Learning"
      ]
    },
    {
      "cell_type": "markdown",
      "metadata": {
        "id": "bhdhGBH_DAef",
        "colab_type": "text"
      },
      "source": [
        "Problemas de aprendizagem profunda estão se tornando cruciais hoje em dia, já que cada vez mais casos de uso exigem esforço e tempo consideráveis.\n",
        "\n",
        "No entanto, o processamento de uma quantidade tão grande de dados é muito mais fácil com o uso de sistemas de computação distribuída, como o Apache Spark, que expande novamente as possibilidades de aprendizagem profunda. \n",
        "\n",
        "Portanto, dist-keras, elephas e spark-deep-learning estão ganhando popularidade e se desenvolvendo rapidamente, e é muito difícil destacar uma das bibliotecas, pois todas elas são projetadas para resolver uma tarefa comum. \n",
        "\n",
        "Esses pacotes permitem que você treine redes neurais baseadas na biblioteca Keras diretamente com a ajuda do Apache Spark. O aprendizado profundo do Spark também fornece ferramentas para criar um pipeline com redes neurais Python.\n",
        "\n"
      ]
    },
    {
      "cell_type": "markdown",
      "metadata": {
        "id": "7ggShApCEXIO",
        "colab_type": "text"
      },
      "source": [
        "##**NLTK** - Deep Learning\n"
      ]
    },
    {
      "cell_type": "markdown",
      "metadata": {
        "id": "mkpY8dyOEXoA",
        "colab_type": "text"
      },
      "source": [
        "O NLTK é um conjunto de bibliotecas, uma plataforma completa para Processamento de Linguagem Natural. Com a ajuda do NLTK, você pode processar e analisar texto de várias maneiras, aplicar tokenize e tag, extrair informações, etc. O NLTK também é usado para prototipar e construir sistemas de pesquisa.\n",
        "\n",
        "As atualizações recentes desta biblioteca abrangem pequenas alterações nas APIs e compatibilidade e uma nova interface para o CoreNLP.\n"
      ]
    },
    {
      "cell_type": "markdown",
      "metadata": {
        "id": "SMRpTbpBE6py",
        "colab_type": "text"
      },
      "source": [
        "##**Spacy** - Deep Learning\n",
        "\n"
      ]
    },
    {
      "cell_type": "markdown",
      "metadata": {
        "id": "X6eozABKNttE",
        "colab_type": "text"
      },
      "source": [
        "[link text](http://datacamp-community-prod.s3.amazonaws.com/29aa28bf-570a-4965-8f54-d6a541ae4e06)"
      ]
    },
    {
      "cell_type": "markdown",
      "metadata": {
        "id": "2US67YpVEY9w",
        "colab_type": "text"
      },
      "source": [
        "O SpaCy é uma biblioteca de Processamento de Linguagem Natural com excelentes exemplos, documentação da API e aplicativos de demonstração. A biblioteca é escrita na linguagem Cython, que é a extensão C do Python.\n",
        "\n",
        "Suporta quase 30 idiomas, fornece fácil integração de aprendizagem profunda e promete robustez e alta precisão. \n",
        "\n",
        "Outra grande característica do SpaCy é uma arquitetura projetada para todo o processamento de documentos, sem quebrar o documento em frases."
      ]
    },
    {
      "cell_type": "markdown",
      "metadata": {
        "id": "I9UN7PljEY7v",
        "colab_type": "text"
      },
      "source": [
        "##**Gensim** - Deep Learning"
      ]
    },
    {
      "cell_type": "markdown",
      "metadata": {
        "id": "G8PEobtDEztj",
        "colab_type": "text"
      },
      "source": [
        "O Gensim é uma biblioteca Python para análise semântica robusta, modelagem de tópico e modelagem de espaço vetorial, e é construído sobre o Numpy e o Scipy. \n",
        "\n",
        "Ele fornece uma implementação de algoritmos populares de PLN, como o Word2vec. Embora o Gensim tenha sua própria implementação de models.wrappers.fasttext, a biblioteca de fasttext também pode ser usada para uma aprendizagem eficiente de representações de palavras."
      ]
    },
    {
      "cell_type": "markdown",
      "metadata": {
        "id": "mufiFK2LFAEA",
        "colab_type": "text"
      },
      "source": [
        "##**Scrapy** - Deep Learning"
      ]
    },
    {
      "cell_type": "markdown",
      "metadata": {
        "id": "RQqsqmcFEY31",
        "colab_type": "text"
      },
      "source": [
        "O Scrapy é uma biblioteca usada para criar bots spiders que varrem páginas web e coletam dados estruturados. Além disso, o Scrapy pode extrair dados de API. A biblioteca é muito útil devido à sua extensibilidade e portabilidade.\n",
        "\n",
        "Entre os avanços feitos ao longo do ano estão várias atualizações em servidores proxy e melhoria na notificação de erros e sistema de erros. Há também novas possibilidades nas configurações de metadados usando análise de escassez."
      ]
    }
  ]
}